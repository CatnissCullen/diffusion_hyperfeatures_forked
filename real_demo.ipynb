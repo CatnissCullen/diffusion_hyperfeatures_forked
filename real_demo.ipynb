{
 "cells": [
  {
   "attachments": {},
   "cell_type": "markdown",
   "metadata": {},
   "source": [
    "**Run the demo.** Run the following cells to compute semantic correspondences for real image pairs."
   ]
  },
  {
   "cell_type": "code",
   "execution_count": 1,
   "outputs": [
    {
     "name": "stdout",
     "output_type": "stream",
     "text": [
      "200\n"
     ]
    }
   ],
   "source": [
    "import os\n",
    "\n",
    "os.environ['http_proxy'] = \"http://127.0.0.1:7891\"\n",
    "os.environ['https_proxy'] = \"http://127.0.0.1:7891\"\n",
    "\n",
    "import requests\n",
    "\n",
    "response = requests.get('http://www.google.com')\n",
    "print(response.status_code)\n"
   ],
   "metadata": {
    "collapsed": false,
    "ExecuteTime": {
     "start_time": "2024-05-22T08:35:28.037708Z",
     "end_time": "2024-05-22T08:35:28.647208Z"
    }
   }
  },
  {
   "cell_type": "code",
   "execution_count": null,
   "metadata": {
    "ExecuteTime": {
     "start_time": "2024-05-20T11:43:04.474619Z",
     "end_time": "2024-05-20T11:43:06.536099Z"
    }
   },
   "outputs": [],
   "source": [
    "%load_ext autoreload\n",
    "%autoreload 2\n",
    "from archs.correspondence_utils import (\n",
    "  process_image,\n",
    "  rescale_points,\n",
    "  draw_correspondences,\n",
    "  compute_pck,\n",
    "  find_nn_source_correspondences,\n",
    "  find_best_buddies_correspondences\n",
    ")\n",
    "import os\n",
    "import torch\n",
    "\n",
    "import einops\n",
    "import matplotlib.pyplot as plt\n",
    "\n",
    "from PIL import Image\n",
    "import numpy as np\n",
    "import json\n",
    "# import torchvision\n",
    "\n",
    "from extract_hyperfeatures import load_models"
   ]
  },
  {
   "cell_type": "code",
   "execution_count": null,
   "metadata": {
    "ExecuteTime": {
     "start_time": "2024-05-20T11:43:06.534094Z",
     "end_time": "2024-05-20T11:43:11.979876Z"
    }
   },
   "outputs": [],
   "source": [
    "# Memory requirement is 13731MiB\n",
    "device = \"cuda\"\n",
    "config_path = \"configs/real.yaml\"\n",
    "config, diffusion_extractor, aggregation_network = load_models(config_path, device)"
   ]
  },
  {
   "cell_type": "code",
   "execution_count": null,
   "metadata": {
    "ExecuteTime": {
     "start_time": "2024-05-20T11:43:11.986994Z",
     "end_time": "2024-05-20T11:43:12.019681Z"
    }
   },
   "outputs": [],
   "source": [
    "def load_image_pair(ann, load_size, device, image_path=\"\"):\n",
    "  img1_pil = Image.open(f\"{image_path}/{ann['source_path']}\").convert(\"RGB\")\n",
    "  img2_pil = Image.open(f\"{image_path}/{ann['target_path']}\").convert(\"RGB\")\n",
    "  source_size = img1_pil.size\n",
    "  target_size = img2_pil.size\n",
    "\n",
    "  # swap from (x, y) to (y, x)\n",
    "  if \"source_points\" in ann:\n",
    "    source_points, target_points = ann[\"source_points\"], ann[\"target_points\"]\n",
    "    source_points = np.flip(source_points, 1)\n",
    "    target_points = np.flip(target_points, 1)\n",
    "    source_points = rescale_points(source_points, source_size, load_size)\n",
    "    target_points = rescale_points(target_points, target_size, load_size)\n",
    "  else:\n",
    "    source_points, target_points = None, None\n",
    "\n",
    "  img1, img1_pil = process_image(img1_pil, res=load_size)\n",
    "  img2, img2_pil = process_image(img2_pil, res=load_size)\n",
    "  img1, img2 = img1.to(device), img2.to(device)\n",
    "  imgs = torch.cat([img1, img2])\n",
    "\n",
    "  return source_points, target_points, img1_pil, img2_pil, imgs\n",
    "\n",
    "def load_saliency_pair(ann, output_size, device, saliency_path=\"\"):\n",
    "  def _load_saliency(path):\n",
    "    if os.path.exists(path):\n",
    "      saliency_pil = Image.open(path).convert(\"L\")\n",
    "      saliency_map, _ = process_image(saliency_pil, res=output_size, range=(0, 1))\n",
    "      saliency_map = einops.rearrange(saliency_map, 'b c h w -> (b c) (h w)')\n",
    "    else:\n",
    "      saliency_map = torch.ones((1, output_size[0] * output_size[1]))\n",
    "    saliency_map = saliency_map.to(device)\n",
    "    return saliency_map\n",
    "  saliency_map1 = _load_saliency(f\"{saliency_path}/{ann['source_path']}\")\n",
    "  saliency_map2 = _load_saliency(f\"{saliency_path}/{ann['target_path']}\")\n",
    "  return saliency_map1, saliency_map2\n",
    "\n",
    "def reshape_descriptors(img1_feats, img2_feats):\n",
    "  b, d, w, h = img1_feats.shape\n",
    "  descriptors1 = img1_feats.view((b, d, -1)).permute((0, 2, 1))[:, None, ...]\n",
    "  descriptors2 = img2_feats.view((b, d, -1)).permute((0, 2, 1))[:, None, ...]\n",
    "  return descriptors1, descriptors2\n",
    "\n",
    "def postprocess_points(source_points, predicted_points, output_size, load_size):\n",
    "  source_points = source_points.detach().cpu().numpy()\n",
    "  predicted_points = predicted_points.detach().cpu().numpy()\n",
    "  source_points = rescale_points(source_points, output_size, load_size)\n",
    "  predicted_points = rescale_points(predicted_points, output_size, load_size)\n",
    "  return source_points, predicted_points"
   ]
  },
  {
   "attachments": {},
   "cell_type": "markdown",
   "metadata": {},
   "source": [
    "**Compute semantic keypoint matches.** Use one of the correspondence functions:\n",
    "- `nearest_neighbors`: For a set of annotated source_points, compute the nearest neighbor predicted_points.\n",
    "- `best_buddies`: Compute the top-k pairs of source_points, predicted_points using the [best buddies algorithm](https://github.com/ShirAmir/dino-vit-features) (Amir et. al., ECCVW 2022)."
   ]
  },
  {
   "cell_type": "code",
   "execution_count": null,
   "metadata": {
    "ExecuteTime": {
     "start_time": "2024-05-20T11:43:12.011042Z",
     "end_time": "2024-05-20T11:43:12.039924Z"
    }
   },
   "outputs": [],
   "source": [
    "image_path = \"assets/spair/images\"\n",
    "saliency_path = \"assets/spair/odise\"\n",
    "annotation_path = \"annotations/spair_71k_test-6.json\"\n",
    "load_size = (224, 224)\n",
    "output_size = (config[\"output_resolution\"], config[\"output_resolution\"])\n",
    "\n",
    "# Select from [nearest_neighbors, best_buddies]\n",
    "correspondence_function = \"nearest_neighbors\"\n",
    "# Number of correspondences to display when using [best_buddies]\n",
    "num_pairs = 10"
   ]
  },
  {
   "cell_type": "code",
   "execution_count": null,
   "metadata": {
    "ExecuteTime": {
     "start_time": "2024-05-20T11:43:12.037924Z",
     "end_time": "2024-05-20T11:44:16.216326Z"
    }
   },
   "outputs": [],
   "source": [
    "for ann in json.load(open(annotation_path)):\n",
    "  source_points, target_points, img1_pil, img2_pil, imgs = load_image_pair(ann, load_size, device, image_path)\n",
    "  \n",
    "  with torch.inference_mode():\n",
    "    with torch.autocast(\"cuda\"):\n",
    "      feats, _ = diffusion_extractor.forward(imgs)\n",
    "      b, s, l, w, h = feats.shape\n",
    "      diffusion_hyperfeats = aggregation_network(feats.float().view((b, -1, w, h)))\n",
    "      img1_hyperfeats = diffusion_hyperfeats[0][None, ...]\n",
    "      img2_hyperfeats = diffusion_hyperfeats[1][None, ...]\n",
    "\n",
    "  if correspondence_function == \"nearest_neighbors\":\n",
    "    _, predicted_points = find_nn_source_correspondences(img1_hyperfeats, img2_hyperfeats, source_points, output_size, load_size)\n",
    "    predicted_points = predicted_points.detach().cpu().numpy()\n",
    "    distances, _, pck_metric = compute_pck(predicted_points, target_points, load_size)\n",
    "    title = f\"Diffusion Hyperfeatures, Nearest Neighbors Matches \\n PCK@0.1: {pck_metric.round(decimals=2)}\"\n",
    "  elif correspondence_function == \"best_buddies\":\n",
    "    descriptors1, descriptors2 = reshape_descriptors(img1_hyperfeats, img2_hyperfeats)\n",
    "    saliency_map1, saliency_map2 = load_saliency_pair(ann, output_size, img1_hyperfeats.device, saliency_path)\n",
    "    source_points, predicted_points = find_best_buddies_correspondences(descriptors1, descriptors2, saliency_map1, saliency_map2, num_pairs=num_pairs)\n",
    "    source_points, predicted_points = postprocess_points(source_points, predicted_points, output_size, load_size)\n",
    "    title = \"Diffusion Hyperfeatures, Best Buddies Matches\"\n",
    "  else:\n",
    "    raise NotImplementedError\n",
    "  \n",
    "  draw_correspondences(source_points, predicted_points, img1_pil, img2_pil, title=title)\n",
    "  plt.show()"
   ]
  }
 ],
 "metadata": {
  "kernelspec": {
   "name": "python3",
   "language": "python",
   "display_name": "Python 3 (ipykernel)"
  },
  "language_info": {
   "codemirror_mode": {
    "name": "ipython",
    "version": 3
   },
   "file_extension": ".py",
   "mimetype": "text/x-python",
   "name": "python",
   "nbconvert_exporter": "python",
   "pygments_lexer": "ipython3",
   "version": "3.8.18"
  },
  "orig_nbformat": 4
 },
 "nbformat": 4,
 "nbformat_minor": 2
}
