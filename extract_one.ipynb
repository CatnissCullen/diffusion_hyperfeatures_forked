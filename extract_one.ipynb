{
 "cells": [
  {
   "cell_type": "code",
   "execution_count": 1,
   "metadata": {
    "collapsed": true,
    "ExecuteTime": {
     "start_time": "2024-10-10T11:42:02.587220Z",
     "end_time": "2024-10-10T11:42:19.587784Z"
    }
   },
   "outputs": [
    {
     "name": "stdout",
     "output_type": "stream",
     "text": [
      "200\n"
     ]
    },
    {
     "name": "stderr",
     "output_type": "stream",
     "text": [
      "/home/gpu/anaconda3/envs/dp/lib/python3.8/site-packages/huggingface_hub/file_download.py:1150: FutureWarning: `resume_download` is deprecated and will be removed in version 1.0.0. Downloads always resume when possible. If you want to force a new download, use `force_download=True`.\n",
      "  warnings.warn(\n",
      "text_encoder/pytorch_model.fp16.safetensors not found\n"
     ]
    },
    {
     "data": {
      "text/plain": "Fetching 29 files:   0%|          | 0/29 [00:00<?, ?it/s]",
      "application/vnd.jupyter.widget-view+json": {
       "version_major": 2,
       "version_minor": 0,
       "model_id": "74fe1aeeaf024b45b7b3b3ad87d115c7"
      }
     },
     "metadata": {},
     "output_type": "display_data"
    },
    {
     "name": "stderr",
     "output_type": "stream",
     "text": [
      "`text_config_dict` is provided which will be used to initialize `CLIPTextConfig`. The value `text_config[\"id2label\"]` will be overriden.\n"
     ]
    },
    {
     "name": "stdout",
     "output_type": "stream",
     "text": [
      "diffusion_mode: inversion\n",
      "idxs: [(0, 0), (0, 1), (0, 2), (1, 0), (1, 1), (1, 2), (2, 0), (2, 1), (2, 2), (3, 0), (3, 1), (3, 2)]\n",
      "output_resolution: 64\n",
      "prompt: \n",
      "negative_prompt: \n",
      "torch.Size([1, 3, 512, 512])\n",
      "torch.Size([1, 4, 64, 64])\n",
      "torch.Size([1, 4, 64, 64])\n",
      "torch.Size([1, 4, 64, 64])\n",
      "torch.Size([1, 4, 64, 64])\n",
      "torch.Size([1, 4, 64, 64])\n",
      "torch.Size([1, 4, 64, 64])\n",
      "torch.Size([1, 4, 64, 64])\n",
      "torch.Size([1, 4, 64, 64])\n",
      "torch.Size([1, 4, 64, 64])\n",
      "torch.Size([1, 4, 64, 64])\n",
      "torch.Size([1, 4, 64, 64])\n",
      "torch.Size([1, 4, 64, 64])\n",
      "torch.Size([1, 4, 64, 64])\n",
      "torch.Size([1, 4, 64, 64])\n",
      "torch.Size([1, 4, 64, 64])\n",
      "torch.Size([1, 4, 64, 64])\n",
      "torch.Size([1, 4, 64, 64])\n",
      "torch.Size([1, 4, 64, 64])\n",
      "torch.Size([1, 4, 64, 64])\n",
      "torch.Size([1, 4, 64, 64])\n",
      "torch.Size([1, 4, 64, 64])\n",
      "torch.Size([1, 4, 64, 64])\n",
      "torch.Size([1, 4, 64, 64])\n",
      "torch.Size([1, 4, 64, 64])\n",
      "torch.Size([1, 4, 64, 64])\n",
      "torch.Size([1, 4, 64, 64])\n",
      "torch.Size([1, 4, 64, 64])\n",
      "torch.Size([1, 4, 64, 64])\n",
      "torch.Size([1, 4, 64, 64])\n",
      "torch.Size([1, 4, 64, 64])\n",
      "torch.Size([1, 4, 64, 64])\n",
      "torch.Size([1, 4, 64, 64])\n",
      "torch.Size([1, 4, 64, 64])\n",
      "torch.Size([1, 4, 64, 64])\n",
      "torch.Size([1, 4, 64, 64])\n",
      "torch.Size([1, 4, 64, 64])\n",
      "torch.Size([1, 4, 64, 64])\n",
      "torch.Size([1, 4, 64, 64])\n",
      "torch.Size([1, 4, 64, 64])\n",
      "torch.Size([1, 4, 64, 64])\n",
      "torch.Size([1, 4, 64, 64])\n",
      "torch.Size([1, 4, 64, 64])\n",
      "torch.Size([1, 4, 64, 64])\n",
      "torch.Size([1, 4, 64, 64])\n",
      "torch.Size([1, 4, 64, 64])\n",
      "torch.Size([1, 4, 64, 64])\n",
      "torch.Size([1, 4, 64, 64])\n",
      "torch.Size([1, 4, 64, 64])\n",
      "torch.Size([1, 4, 64, 64])\n",
      "torch.Size([1, 4, 64, 64])\n",
      "1\n",
      "torch.Size([11, 10560, 64, 64])\n",
      "done\n",
      "done\n",
      "torch.Size([1, 384, 64, 64])\n"
     ]
    },
    {
     "name": "stderr",
     "output_type": "stream",
     "text": [
      "/data/ypq/DiffusionPainter/DiffusionHyperfeatures/archs/aggregation_network.py:59: UserWarning: Implicit dimension choice for softmax has been deprecated. Change the call to include dim=X as an argument.\n",
      "  mixing_weights = torch.nn.functional.softmax(self.mixing_weights)\n"
     ]
    }
   ],
   "source": [
    "from PIL import Image\n",
    "import torch\n",
    "\n",
    "from archs.correspondence_utils import process_image\n",
    "from extract_hyperfeatures import load_models\n",
    "\n",
    "import os\n",
    "import requests\n",
    "\n",
    "os.environ['http_proxy'] = \"http://127.0.0.1:7892\"\n",
    "os.environ['https_proxy'] = \"http://127.0.0.1:7892\"\n",
    "# 测试，输出200为正常接通\n",
    "response = requests.get('http://www.google.com')\n",
    "print(response.status_code)\n",
    "\n",
    "if torch.cuda.is_available():\n",
    "    torch.cuda.set_device(0)\n",
    "    device = torch.device(\"cuda\")\n",
    "else: device = torch.device(\"cpu\")\n",
    "\n",
    "\n",
    "config, diffusion_extractor, aggregation_network = load_models('./configs/real_one.yaml', device)\n",
    "\n",
    "\n",
    "\"\"\" Extract one image's Hyper-Features \"\"\"\n",
    "with torch.inference_mode():\n",
    "    with torch.autocast(\"cuda\"):\n",
    "        # Preprocess Image\n",
    "        path = \"example_imgs/diamond.jpg\"\n",
    "        img_pil = Image.open(path).convert(\"RGB\")\n",
    "        img, _ =  process_image(img_pil, res=(512, 512))  # tensor img\n",
    "        img = torch.vstack([img.to(device)])\n",
    "        print(img.size())\n",
    "        # Extract Unet Layers\n",
    "        feats, _ = diffusion_extractor.forward(img)\n",
    "        print(len(feats))\n",
    "        print(feats[0].shape)\n",
    "\n",
    "        print(\"done\")\n",
    "        # Aggregate Features\n",
    "        diffusion_hyperfeats = aggregation_network(feats.float().view((1, -1, config[\"output_resolution\"], config[\"output_resolution\"])))\n",
    "        print(\"done\")\n",
    "        print(diffusion_hyperfeats.size())"
   ]
  }
 ],
 "metadata": {
  "kernelspec": {
   "display_name": "Python 3",
   "language": "python",
   "name": "python3"
  },
  "language_info": {
   "codemirror_mode": {
    "name": "ipython",
    "version": 2
   },
   "file_extension": ".py",
   "mimetype": "text/x-python",
   "name": "python",
   "nbconvert_exporter": "python",
   "pygments_lexer": "ipython2",
   "version": "2.7.6"
  }
 },
 "nbformat": 4,
 "nbformat_minor": 0
}
